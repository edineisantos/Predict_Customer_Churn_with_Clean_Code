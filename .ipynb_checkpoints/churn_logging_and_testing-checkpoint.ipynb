{
 "cells": [
  {
   "cell_type": "code",
   "execution_count": 2,
   "id": "3420f9ad-ad9e-4bc8-8d9a-ce9f5f465c7a",
   "metadata": {},
   "outputs": [],
   "source": [
    "import os\n",
    "import logging\n",
    "import churn_library as cl"
   ]
  },
  {
   "cell_type": "code",
   "execution_count": 3,
   "id": "d29eb771-eaef-4b51-bf41-d1c21897a10d",
   "metadata": {},
   "outputs": [],
   "source": [
    "logging.basicConfig(\n",
    "    filename='./logs/churn_library.log',\n",
    "    level = logging.INFO,\n",
    "    filemode='w',\n",
    "    format='%(name)s - %(levelname)s - %(message)s')"
   ]
  },
  {
   "cell_type": "code",
   "execution_count": 4,
   "id": "0d412939-c9e1-47a3-a7c5-90e8053c5bd4",
   "metadata": {},
   "outputs": [],
   "source": [
    "def test_import(import_data):\n",
    "\t'''\n",
    "\ttest data import\n",
    "\t'''\n",
    "\ttry:\n",
    "\t\tdf = import_data(\"./data/bank_data.csv\")\n",
    "\t\tlogging.info(\"Testing import_data: SUCCESS\")\n",
    "\texcept FileNotFoundError as err:\n",
    "\t\tlogging.error(\"Testing import_eda: The file wasn't found\")\n",
    "\t\traise err\n",
    "\n",
    "\ttry:\n",
    "\t\tassert df.shape[0] > 0\n",
    "\t\tassert df.shape[1] > 0\n",
    "\texcept AssertionError as err:\n",
    "\t\tlogging.error(\"Testing import_data: The file doesn't appear to have rows and columns\")\n",
    "\t\traise err\n"
   ]
  },
  {
   "cell_type": "code",
   "execution_count": 6,
   "id": "192dca77-621f-4c11-b7a6-ced288c5a5e0",
   "metadata": {},
   "outputs": [],
   "source": [
    "test_import(cl.import_data)"
   ]
  },
  {
   "cell_type": "code",
   "execution_count": null,
   "id": "00352fa6-18e8-48fd-a086-03b9734d94b1",
   "metadata": {},
   "outputs": [],
   "source": []
  },
  {
   "cell_type": "code",
   "execution_count": null,
   "id": "4b931717-3147-44c0-9666-c58ba82f9bbb",
   "metadata": {},
   "outputs": [],
   "source": []
  },
  {
   "cell_type": "code",
   "execution_count": null,
   "id": "97c70524-6c43-46a7-812a-27fb7ae1de26",
   "metadata": {},
   "outputs": [],
   "source": []
  },
  {
   "cell_type": "code",
   "execution_count": null,
   "id": "f512ebe6-674a-4a4a-9cdf-62268e711619",
   "metadata": {},
   "outputs": [],
   "source": [
    "def test_eda(perform_eda):\n",
    "\t'''\n",
    "\ttest perform eda function\n",
    "\t'''\n"
   ]
  },
  {
   "cell_type": "code",
   "execution_count": null,
   "id": "31069031-de6e-4abf-be43-3a015d11c0ef",
   "metadata": {},
   "outputs": [],
   "source": [
    "def test_encoder_helper(encoder_helper):\n",
    "\t'''\n",
    "\ttest encoder helper\n",
    "\t'''\n"
   ]
  },
  {
   "cell_type": "code",
   "execution_count": null,
   "id": "845bc519-ddfa-48d3-811c-e6472304c589",
   "metadata": {},
   "outputs": [],
   "source": [
    "def test_perform_feature_engineering(perform_feature_engineering):\n",
    "\t'''\n",
    "\ttest perform_feature_engineering\n",
    "\t'''\n",
    "\n",
    "\n"
   ]
  },
  {
   "cell_type": "code",
   "execution_count": null,
   "id": "097dc3dc-0f3a-45da-8900-430b3cf2ddef",
   "metadata": {},
   "outputs": [],
   "source": [
    "def test_train_models(train_models):\n",
    "\t'''\n",
    "\ttest train_models\n",
    "\t'''"
   ]
  }
 ],
 "metadata": {
  "kernelspec": {
   "display_name": "Python 3 (ipykernel)",
   "language": "python",
   "name": "python3"
  },
  "language_info": {
   "codemirror_mode": {
    "name": "ipython",
    "version": 3
   },
   "file_extension": ".py",
   "mimetype": "text/x-python",
   "name": "python",
   "nbconvert_exporter": "python",
   "pygments_lexer": "ipython3",
   "version": "3.8.18"
  }
 },
 "nbformat": 4,
 "nbformat_minor": 5
}
